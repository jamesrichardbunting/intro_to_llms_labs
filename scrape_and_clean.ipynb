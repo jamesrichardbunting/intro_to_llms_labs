{
 "cells": [
  {
   "cell_type": "code",
   "execution_count": 15,
   "metadata": {},
   "outputs": [
    {
     "name": "stdout",
     "output_type": "stream",
     "text": [
      "Requirement already satisfied: markdownify in /usr/local/python/3.12.1/lib/python3.12/site-packages (0.13.1)\n",
      "Requirement already satisfied: beautifulsoup4<5,>=4.9 in /home/codespace/.local/lib/python3.12/site-packages (from markdownify) (4.12.3)\n",
      "Requirement already satisfied: six<2,>=1.15 in /home/codespace/.local/lib/python3.12/site-packages (from markdownify) (1.16.0)\n",
      "Requirement already satisfied: soupsieve>1.2 in /home/codespace/.local/lib/python3.12/site-packages (from beautifulsoup4<5,>=4.9->markdownify) (2.6)\n",
      "Requirement already satisfied: psycopg2 in /home/codespace/.python/current/lib/python3.12/site-packages (2.9.9)\n",
      "Note: you may need to restart the kernel to use updated packages.\n"
     ]
    }
   ],
   "source": [
    "!pip install -qU langchain-community beautifulsoup4\n",
    "!pip install markdownify\n",
    "%pip install psycopg2 \n",
    "\n",
    "from langchain_community.document_loaders import RecursiveUrlLoader # Loads documents recrusively from URLS\n",
    "from langchain_community.document_transformers import MarkdownifyTransformer # Converts documents to Markdown\n",
    "import asyncio # Library for writing concurrent code using async/await syntax\n",
    "from bs4 import BeautifulSoup # Library for parsing HTML and XML docs\n",
    "import re # Regular expression matching operations\n",
    "import psycopg2\n",
    "\n",
    "import logging # Library for configuring and implementing logging"
   ]
  },
  {
   "cell_type": "code",
   "execution_count": 2,
   "metadata": {},
   "outputs": [
    {
     "name": "stdout",
     "output_type": "stream",
     "text": [
      "2024-09-04 16:14:17,732 - ExampleLogger - INFO - This is an informational message.\n",
      "2024-09-04 16:18:18,874 - ExampleLogger - INFO - This is an informational message.\n",
      "2024-09-04 19:04:21,000 - ExampleLogger - INFO - This is an informational message.\n",
      "2024-09-04 19:49:25,168 - ExampleLogger - INFO - This is an informational message.\n",
      "\n"
     ]
    }
   ],
   "source": [
    "# Configure logging to track what happens during execution of the following code\n",
    "# and discover issues. \n",
    "\n",
    "logging.basicConfig(\n",
    "    level=logging.INFO,   # Set minimum logging level to INFO (logs this level and above will be captured)\n",
    "    format='%(asctime)s - %(name)s - %(levelname)s - %(message)s',  # Set the log message format\n",
    "    filename='app.log',  # Define filename where logs written\n",
    "    filemode='a'  # Set mode to append ('w' for overwrite)\n",
    ")\n",
    "\n",
    "# Get the logger named 'ExampleLogger' for tracking application events.\n",
    "logger = logging.getLogger('ExampleLogger')\n",
    "\n",
    "# Log an example informational message.\n",
    "logger.info('This is an informational message.')\n",
    "\n",
    "# Read and print the log file to verify the logging output.\n",
    "with open('app.log', 'r') as file:\n",
    "    content = file.read()\n",
    "    print(content)\n"
   ]
  },
  {
   "cell_type": "code",
   "execution_count": 7,
   "metadata": {},
   "outputs": [],
   "source": [
    "# Initialize a RecursiveUrlLoader to fetch and process web pages recursively.\n",
    "loader = RecursiveUrlLoader(\n",
    "    url=\"https://wigan.gov.uk\",  # Set the starting URL for recursive loading\n",
    "    base_url=\"https://wigan.gov.uk\",  # Set the base URL to resolve relative links\n",
    "    max_depth=2,  # Set maximum number of levels to recurse into URL structure\n",
    "    use_async=True,  # Enable asynchronous operations to improve performance\n",
    "    timeout=300,  # Timeout after 300 seconds for each request\n",
    "    check_response_status=True,  # Only process requests that return successful HTTP statuses\n",
    "    prevent_outside=True,  # Restrict navigation to URLs outside the base domain.\n",
    "    # extractor=None,  # Define a custom function to extract content from pages (not used).\n",
    "    # metadata_extractor=None,  # Define a function to extract metadata (not used).\n",
    "    # exclude_dirs=(),  # Specify directory paths to exclude from processing (not used).\n",
    "    # continue_on_failure=True,  # Continue processing other URLs if one fails (not used).\n",
    "    # base_url=None,  # Optionally override the base URL for relative link resolution (not used).\n",
    ")"
   ]
  },
  {
   "cell_type": "code",
   "execution_count": 5,
   "metadata": {},
   "outputs": [],
   "source": [
    "def bs4_extractor(html: str) -> str:\n",
    "    \"\"\"\n",
    "    Extracts and cleans text from HTML content.\n",
    "    \n",
    "    This function uses BeautifulSoup to parse HTML content, removes elements that don't \n",
    "    contain relevant text, then extracts and cleans the text to improve readability for downstream LLMs.\n",
    "    \n",
    "    Parameters:\n",
    "        html (str): A string containing HTML content.\n",
    "        \n",
    "    Returns:\n",
    "        str: The cleaned and extracted text from the HTML.\n",
    "    \"\"\"\n",
    "    \n",
    "    # Initialise a BeautifulSoup object with lxml parser\n",
    "    soup = BeautifulSoup(html, \"lxml\")\n",
    "\n",
    "    # Remove unnecessary elements\n",
    "    for tag in soup([\"header\", \"nav\", \"footer\", \"aside\", \"script\", \"style\", \"noscript\"]):\n",
    "        tag.decompose()  # Remove the tag from the soup object\n",
    "\n",
    "    # Extract text from the modified HTML tree, using newline as a separator\n",
    "    text = soup.get_text(separator=\"\\n\")\n",
    "    \n",
    "    # Clean up the text by replacing multiple newlines with a single pair of newlines\n",
    "    cleaned_text = re.sub(r\"\\n\\n+\", \"\\n\\n\", text).strip()\n",
    "    \n",
    "    return cleaned_text"
   ]
  },
  {
   "cell_type": "code",
   "execution_count": 8,
   "metadata": {},
   "outputs": [],
   "source": [
    "async def main():\n",
    "    \"\"\"\n",
    "    Main asynchronous function to process and convert documents \n",
    "    to Markdown format, then save to a file.\n",
    "    \"\"\"\n",
    "    # Initialize the Markdown transformer\n",
    "    md = MarkdownifyTransformer()\n",
    "    \n",
    "    # Asynchronously load documents\n",
    "    docs = await loader.aload()\n",
    "    \n",
    "    # Transform loaded documents to Markdown\n",
    "    docs = md.transform_documents(docs)\n",
    "    \n",
    "    # Print the number of documents processed\n",
    "    print(\"Number of documents processed:\", len(docs))\n",
    "    # Print the second document as a sample output\n",
    "    print(\"Sample document:\", docs[1])\n",
    "    \n",
    "    # Open a file to write the processed documents\n",
    "    with open('docs.txt', 'w') as f:\n",
    "        # Iterate through each document\n",
    "        for doc in docs:\n",
    "            # Write each document to the file followed by a separator line\n",
    "            f.writelines(str(doc))\n",
    "            f.writelines('\\n--------------------------------------------------------------\\n')\n"
   ]
  },
  {
   "cell_type": "code",
   "execution_count": 12,
   "metadata": {},
   "outputs": [
    {
     "name": "stderr",
     "output_type": "stream",
     "text": [
      "/home/codespace/.local/lib/python3.12/site-packages/bs4/builder/__init__.py:314: RuntimeWarning: coroutine 'main' was never awaited\n",
      "  for attr in list(attrs.keys()):\n",
      "RuntimeWarning: Enable tracemalloc to get the object allocation traceback\n"
     ]
    },
    {
     "name": "stdout",
     "output_type": "stream",
     "text": [
      "Number of documents processed: 121\n",
      "Sample document: page_content='Adult Social Care and Health\n",
      "\n",
      "Browser does not support script.\n",
      "\n",
      "Browser does not support script.\n",
      "\n",
      "[Skip to content](#L3_MainContentPlaceholder)\n",
      "\n",
      "  [Login](https://forms.wigan.gov.uk) \n",
      "\n",
      "[Wigan Council](/index.aspx)\n",
      "\n",
      "Search\n",
      "\n",
      "Search\n",
      "\n",
      "* [Resident](/index.aspx)\n",
      "* [Business](/Business/index.aspx \"index\")\n",
      "* [Council](/Council/index.aspx \"index\")\n",
      "* [MyAccount](/MyAccount/My-Account.aspx)\n",
      "* [Visit Us](https://www.visitwigan.com/index.aspx \"Visit Wigan\")\n",
      "\n",
      "[Emergency contact](https://www.wigan.gov.uk/Resident/Crime-Emergencies/Emergencies.aspx \"Emergency contact\")\n",
      "\n",
      "[Home](/index.aspx \"Go to Home from here\")/[Resident](/Resident/index.aspx \"Go to Resident from here\")/[Health and social care](/Resident/Health-Social-Care/index.aspx \"Go to Health and social care from here\")/Adults\n",
      "\n",
      "# Adult Social Care and Health\n",
      "\n",
      "![What is adult social care?](/Images/Resident/Health-Social-Care/Adults/Adult-Social-Care-and-Health-banner.png)## Banner\n",
      "\n",
      "### [Find out more about adult social care](/Resident/Health-Social-Care/Adults/What-is-Adult-Social-Care.aspx)\n",
      "\n",
      "* [Keeping fit and wellHelp and advice to stay mentally and physically well](/Resident/Health-Social-Care/Adults/fit-and-well/index.aspx)\n",
      "* [Paying for careHow paying for care works and whether you are eligible for help](/Resident/Health-Social-Care/Adults/will-i-have-to-pay/index.aspx)\n",
      "* [Supported Living OptionsFind out what is available for supported living and residential care](/Resident/Housing/Supported-living/Index.aspx)\n",
      "* [Making life easier at homeAdvice, adaptations, technology and support to help you live safely at home and outside](/Resident/Health-Social-Care/Adults/Making-life-easier-at-home/index.aspx)\n",
      "* [Support for friends and familyHelp and advice if you look after others](/Resident/Health-Social-Care/Adults/Community-support/Support-for-carers/Index.aspx)\n",
      "* [Preparing for adulthoodHelp to find employment, volunteering opportunities, getting out and about and day services](/Resident/Health-Social-Care/Adults/Preparing-for-adulthood/index.aspx)\n",
      "* [Assessment and Support PlansSocial care assessment and eligibility for care, help to live at home or after hospital](/Resident/Health-Social-Care/Adults/Getting-help/index.aspx)\n",
      "* [Complaints, compliments and raising concernsHow to report concerns, share compliments or make complaints](/Resident/Health-Social-Care/Adults/raising-concerns/raising-concerns.aspx)\n",
      "* [You Can CareHow you can get involved caring for others and make a difference](/Resident/Health-Social-Care/You-Can-Care/Index.aspx)\n",
      "\n",
      "A\\-Z\n",
      "* [A](/A-Z.aspx?WiganAtoZ_AtoZLetter=A)\n",
      "* [B](/A-Z.aspx?WiganAtoZ_AtoZLetter=B)\n",
      "* [C](/A-Z.aspx?WiganAtoZ_AtoZLetter=C)\n",
      "* [D](/A-Z.aspx?WiganAtoZ_AtoZLetter=D)\n",
      "* [E](/A-Z.aspx?WiganAtoZ_AtoZLetter=E)\n",
      "* [F](/A-Z.aspx?WiganAtoZ_AtoZLetter=F)\n",
      "* [G](/A-Z.aspx?WiganAtoZ_AtoZLetter=G)\n",
      "* [H](/A-Z.aspx?WiganAtoZ_AtoZLetter=H)\n",
      "* [I](/A-Z.aspx?WiganAtoZ_AtoZLetter=I)\n",
      "* [J](/A-Z.aspx?WiganAtoZ_AtoZLetter=J)\n",
      "* [K](/A-Z.aspx?WiganAtoZ_AtoZLetter=K)\n",
      "* [L](/A-Z.aspx?WiganAtoZ_AtoZLetter=L)\n",
      "* [M](/A-Z.aspx?WiganAtoZ_AtoZLetter=M)\n",
      "* [N](/A-Z.aspx?WiganAtoZ_AtoZLetter=N)\n",
      "* [O](/A-Z.aspx?WiganAtoZ_AtoZLetter=O)\n",
      "* [P](/A-Z.aspx?WiganAtoZ_AtoZLetter=P)\n",
      "* [Q](/A-Z.aspx?WiganAtoZ_AtoZLetter=Q)\n",
      "* [R](/A-Z.aspx?WiganAtoZ_AtoZLetter=R)\n",
      "* [S](/A-Z.aspx?WiganAtoZ_AtoZLetter=S)\n",
      "* [T](/A-Z.aspx?WiganAtoZ_AtoZLetter=T)\n",
      "* [U](/A-Z.aspx?WiganAtoZ_AtoZLetter=U)\n",
      "* [V](/A-Z.aspx?WiganAtoZ_AtoZLetter=V)\n",
      "* [W](/A-Z.aspx?WiganAtoZ_AtoZLetter=W)\n",
      "* [X](/A-Z.aspx?WiganAtoZ_AtoZLetter=X)\n",
      "* [Y](/A-Z.aspx?WiganAtoZ_AtoZLetter=Y)\n",
      "* [Z](/A-Z.aspx?WiganAtoZ_AtoZLetter=Z)\n",
      "\n",
      "* [Accessibility](/SitePages/Accessibility.aspx \"Go to Accessibility from here\")\n",
      "* [Accessibility Statement](/SitePages/Accessibility-statement.aspx \"Go to Accessibility Statement from here\")\n",
      "* [Progress with Unity](/Council/Progress-with-Unity/index.aspx \"Go to Progress with Unity from here\")\n",
      "* [Contact us](/Council/Contact-us/index.aspx \"Go to Contact us from here\")\n",
      "* [Cookies](/SitePages/Cookies.aspx \"Go to Cookies from here\")\n",
      "* [Disclaimer](/SitePages/Disclaimer.aspx \"Go to Disclaimer from here\")\n",
      "* [Emergencies](/Resident/Crime-Emergencies/Emergencies.aspx \"Go to Emergencies from here\")\n",
      "* [Privacy policy](/SitePages/PrivacyPolicy.aspx \"Go to Privacy policy from here\")\n",
      "\n",
      "Keep up to date with latest events and community news by signing up to receive our weekly newsletter.\n",
      "\n",
      "* [Sign up now](/News/Signup-newsletter.aspx \"Sign up newsletter\")\n",
      "\n",
      "* [Facebook](https://www.facebook.com/WiganCouncilOnline \"Wigan Council on Facebook\")\n",
      "* [X](https://twitter.com/wigancouncil \"Wigan Council on X\")\n",
      "* [Instagram](https://www.instagram.com/wigancouncil/ \"Wigan Council on Instagram\")\n",
      "* [YouTube](https://www.youtube.com/user/wigancouncil \"Wigan Council on YouTube\")\n",
      "* [Linkedin](https://www.linkedin.com/company/wigan-council \"Wigan Council on Linkedin\")\n",
      "\n",
      "© Wigan Council\n",
      "\n",
      "Browser does not support script.\n",
      "\n",
      "Browser does not support script.\n",
      "\n",
      "Browser does not support script.\n",
      "\n",
      "Browser does not support script.\n",
      "\n",
      "Browser does not support script.\n",
      "\n",
      "Browser does not support script.' metadata={'source': 'https://wigan.gov.uk/Resident/Health-Social-Care/Adults/Adults-health-social-care.aspx', 'content_type': 'text/html; charset=utf-8', 'title': '\\r\\n\\tAdult Social Care and Health\\r\\n', 'language': 'en-GB'}\n"
     ]
    }
   ],
   "source": [
    "await main()\n"
   ]
  },
  {
   "cell_type": "code",
   "execution_count": 9,
   "metadata": {},
   "outputs": [
    {
     "ename": "RuntimeError",
     "evalue": "asyncio.run() cannot be called from a running event loop",
     "output_type": "error",
     "traceback": [
      "\u001b[0;31m---------------------------------------------------------------------------\u001b[0m",
      "\u001b[0;31mRuntimeError\u001b[0m                              Traceback (most recent call last)",
      "Cell \u001b[0;32mIn[9], line 4\u001b[0m\n\u001b[1;32m      1\u001b[0m \u001b[38;5;66;03m# Entry point of the script\u001b[39;00m\n\u001b[1;32m      2\u001b[0m \u001b[38;5;28;01mif\u001b[39;00m \u001b[38;5;18m__name__\u001b[39m \u001b[38;5;241m==\u001b[39m \u001b[38;5;124m'\u001b[39m\u001b[38;5;124m__main__\u001b[39m\u001b[38;5;124m'\u001b[39m:\n\u001b[1;32m      3\u001b[0m     \u001b[38;5;66;03m# Run the asynchronous main function\u001b[39;00m\n\u001b[0;32m----> 4\u001b[0m     \u001b[43masyncio\u001b[49m\u001b[38;5;241;43m.\u001b[39;49m\u001b[43mrun\u001b[49m\u001b[43m(\u001b[49m\u001b[43mmain\u001b[49m\u001b[43m(\u001b[49m\u001b[43m)\u001b[49m\u001b[43m)\u001b[49m\n",
      "File \u001b[0;32m~/.python/current/lib/python3.12/asyncio/runners.py:190\u001b[0m, in \u001b[0;36mrun\u001b[0;34m(main, debug, loop_factory)\u001b[0m\n\u001b[1;32m    161\u001b[0m \u001b[38;5;250m\u001b[39m\u001b[38;5;124;03m\"\"\"Execute the coroutine and return the result.\u001b[39;00m\n\u001b[1;32m    162\u001b[0m \n\u001b[1;32m    163\u001b[0m \u001b[38;5;124;03mThis function runs the passed coroutine, taking care of\u001b[39;00m\n\u001b[0;32m   (...)\u001b[0m\n\u001b[1;32m    186\u001b[0m \u001b[38;5;124;03m    asyncio.run(main())\u001b[39;00m\n\u001b[1;32m    187\u001b[0m \u001b[38;5;124;03m\"\"\"\u001b[39;00m\n\u001b[1;32m    188\u001b[0m \u001b[38;5;28;01mif\u001b[39;00m events\u001b[38;5;241m.\u001b[39m_get_running_loop() \u001b[38;5;129;01mis\u001b[39;00m \u001b[38;5;129;01mnot\u001b[39;00m \u001b[38;5;28;01mNone\u001b[39;00m:\n\u001b[1;32m    189\u001b[0m     \u001b[38;5;66;03m# fail fast with short traceback\u001b[39;00m\n\u001b[0;32m--> 190\u001b[0m     \u001b[38;5;28;01mraise\u001b[39;00m \u001b[38;5;167;01mRuntimeError\u001b[39;00m(\n\u001b[1;32m    191\u001b[0m         \u001b[38;5;124m\"\u001b[39m\u001b[38;5;124masyncio.run() cannot be called from a running event loop\u001b[39m\u001b[38;5;124m\"\u001b[39m)\n\u001b[1;32m    193\u001b[0m \u001b[38;5;28;01mwith\u001b[39;00m Runner(debug\u001b[38;5;241m=\u001b[39mdebug, loop_factory\u001b[38;5;241m=\u001b[39mloop_factory) \u001b[38;5;28;01mas\u001b[39;00m runner:\n\u001b[1;32m    194\u001b[0m     \u001b[38;5;28;01mreturn\u001b[39;00m runner\u001b[38;5;241m.\u001b[39mrun(main)\n",
      "\u001b[0;31mRuntimeError\u001b[0m: asyncio.run() cannot be called from a running event loop"
     ]
    }
   ],
   "source": [
    "# Entry point of the script\n",
    "if __name__ == '__main__':\n",
    "    # Run the asynchronous main function\n",
    "    asyncio.run(main())"
   ]
  }
 ],
 "metadata": {
  "kernelspec": {
   "display_name": "Python 3",
   "language": "python",
   "name": "python3"
  },
  "language_info": {
   "codemirror_mode": {
    "name": "ipython",
    "version": 3
   },
   "file_extension": ".py",
   "mimetype": "text/x-python",
   "name": "python",
   "nbconvert_exporter": "python",
   "pygments_lexer": "ipython3",
   "version": "3.12.1"
  }
 },
 "nbformat": 4,
 "nbformat_minor": 2
}
